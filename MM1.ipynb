{
 "cells": [
  {
   "cell_type": "markdown",
   "metadata": {},
   "source": [
    "# Running and analysing an M/M/1 queue with Ciw"
   ]
  },
  {
   "cell_type": "markdown",
   "metadata": {},
   "source": [
    "### Import Ciw and any other libraries"
   ]
  },
  {
   "cell_type": "code",
   "execution_count": 1,
   "metadata": {
    "collapsed": true
   },
   "outputs": [],
   "source": [
    "import ciw"
   ]
  },
  {
   "cell_type": "markdown",
   "metadata": {},
   "source": [
    "### First define the parameters dictionary"
   ]
  },
  {
   "cell_type": "code",
   "execution_count": 2,
   "metadata": {
    "collapsed": true
   },
   "outputs": [],
   "source": [
    "params = {\n",
    "    'Arrival_distributions': [['Exponential', 3.0]],\n",
    "    'Service_distributions': [['Exponential', 5.0]],\n",
    "    'Transition_matrices': [[0.0]],\n",
    "    'Number_of_servers': [1]\n",
    "}"
   ]
  },
  {
   "cell_type": "markdown",
   "metadata": {},
   "source": [
    "### Now create a Network object from that dictionary, and simulate for 1000 time units"
   ]
  },
  {
   "cell_type": "code",
   "execution_count": 3,
   "metadata": {
    "collapsed": false
   },
   "outputs": [],
   "source": [
    "N = ciw.create_network(params)\n",
    "Q = ciw.Simulation(N)"
   ]
  },
  {
   "cell_type": "code",
   "execution_count": 4,
   "metadata": {
    "collapsed": true
   },
   "outputs": [],
   "source": [
    "max_sim_time = 1000\n",
    "Q.simulate_until_max_time(max_sim_time)"
   ]
  },
  {
   "cell_type": "markdown",
   "metadata": {},
   "source": [
    "### Before analysing results, let's compute what the expected wait and expected queue length should be, according to standard queueing theory"
   ]
  },
  {
   "cell_type": "code",
   "execution_count": 5,
   "metadata": {
    "collapsed": true
   },
   "outputs": [],
   "source": [
    "traffic_intensity = params['Arrival_distributions'][0][1] / params['Service_distributions'][0][1]"
   ]
  },
  {
   "cell_type": "code",
   "execution_count": 6,
   "metadata": {
    "collapsed": false
   },
   "outputs": [
    {
     "name": "stdout",
     "output_type": "stream",
     "text": [
      "1.4999999999999998\n"
     ]
    }
   ],
   "source": [
    "expected_queue_length = traffic_intensity / (1 - traffic_intensity)\n",
    "print(expected_queue_length)"
   ]
  },
  {
   "cell_type": "code",
   "execution_count": 7,
   "metadata": {
    "collapsed": false
   },
   "outputs": [
    {
     "name": "stdout",
     "output_type": "stream",
     "text": [
      "0.29999999999999993\n"
     ]
    }
   ],
   "source": [
    "expected_waiting_time = expected_queue_length / params['Service_distributions'][0][1]\n",
    "print(expected_waiting_time)"
   ]
  },
  {
   "cell_type": "markdown",
   "metadata": {},
   "source": [
    "### Let's find the mean waiting time of the simulation"
   ]
  },
  {
   "cell_type": "code",
   "execution_count": 8,
   "metadata": {
    "collapsed": true
   },
   "outputs": [],
   "source": [
    "recs = Q.get_all_records()"
   ]
  },
  {
   "cell_type": "code",
   "execution_count": 9,
   "metadata": {
    "collapsed": false
   },
   "outputs": [
    {
     "name": "stdout",
     "output_type": "stream",
     "text": [
      "0.2666650572397137\n"
     ]
    }
   ],
   "source": [
    "waits = [r.waiting_time for r in recs if r.arrival_date > 50]\n",
    "simulation_mean_wait = sum(waits)/len(waits)\n",
    "print(simulation_mean_wait)"
   ]
  },
  {
   "cell_type": "markdown",
   "metadata": {},
   "source": [
    "### Now finding average queue length is more involved... "
   ]
  },
  {
   "cell_type": "code",
   "execution_count": 10,
   "metadata": {
    "collapsed": true
   },
   "outputs": [],
   "source": [
    "def mean_queue_length(recs, max_sim_time, warm_up):\n",
    "    arrival_time_stamps = [(r.arrival_date, r.queue_size_at_arrival) for r in recs]\n",
    "    exit_time_stamps = [(r.exit_date, r.queue_size_at_departure) for r in recs]\n",
    "    time_stamps = arrival_time_stamps + exit_time_stamps + [(0, 0)]\n",
    "    time_stamps.sort(key=lambda r: r[0])\n",
    "    numerator = sum([time_stamps[i][1]*(time_stamps[i][0]-time_stamps[i-1][0]) for i in range(1, len(time_stamps)) if time_stamps[i][0] > 50])\n",
    "    mean_queue_length = numerator / (max_sim_time - warm_up)\n",
    "    return mean_queue_length"
   ]
  },
  {
   "cell_type": "code",
   "execution_count": 11,
   "metadata": {
    "collapsed": false
   },
   "outputs": [
    {
     "name": "stdout",
     "output_type": "stream",
     "text": [
      "0.997156456736432\n"
     ]
    }
   ],
   "source": [
    "simulation_mean_queue_length = mean_queue_length(recs, max_sim_time, 50)\n",
    "print(simulation_mean_queue_length)"
   ]
  },
  {
   "cell_type": "markdown",
   "metadata": {},
   "source": [
    "### Finally let's compare the analytical resutls to the simulation results"
   ]
  },
  {
   "cell_type": "code",
   "execution_count": 12,
   "metadata": {
    "collapsed": false
   },
   "outputs": [
    {
     "name": "stdout",
     "output_type": "stream",
     "text": [
      "Analytical mean waiting time: 0.29999999999999993\n",
      "Simulation mean waiting time: 0.2666650572397137\n"
     ]
    }
   ],
   "source": [
    "print(\"Analytical mean waiting time: \" + str(expected_waiting_time))\n",
    "print(\"Simulation mean waiting time: \" + str(simulation_mean_wait))"
   ]
  },
  {
   "cell_type": "code",
   "execution_count": 13,
   "metadata": {
    "collapsed": false
   },
   "outputs": [
    {
     "name": "stdout",
     "output_type": "stream",
     "text": [
      "Analytical mean queue length: 1.4999999999999998\n",
      "Simulation mean queue length: 0.997156456736432\n"
     ]
    }
   ],
   "source": [
    "print(\"Analytical mean queue length: \" + str(expected_queue_length))\n",
    "print(\"Simulation mean queue length: \" + str(simulation_mean_queue_length))"
   ]
  },
  {
   "cell_type": "code",
   "execution_count": null,
   "metadata": {
    "collapsed": true
   },
   "outputs": [],
   "source": []
  }
 ],
 "metadata": {
  "kernelspec": {
   "display_name": "Python 3",
   "language": "python",
   "name": "python3"
  },
  "language_info": {
   "codemirror_mode": {
    "name": "ipython",
    "version": 3
   },
   "file_extension": ".py",
   "mimetype": "text/x-python",
   "name": "python",
   "nbconvert_exporter": "python",
   "pygments_lexer": "ipython3",
   "version": "3.5.1"
  }
 },
 "nbformat": 4,
 "nbformat_minor": 0
}
