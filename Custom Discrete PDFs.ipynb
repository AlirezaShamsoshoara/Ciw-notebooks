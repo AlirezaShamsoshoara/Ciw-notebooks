{
 "cells": [
  {
   "cell_type": "markdown",
   "metadata": {},
   "source": [
    "# Running and analysing an queue with a custom discrete service distribution"
   ]
  },
  {
   "cell_type": "code",
   "execution_count": 24,
   "metadata": {
    "collapsed": true
   },
   "outputs": [],
   "source": [
    "import ciw"
   ]
  },
  {
   "cell_type": "markdown",
   "metadata": {},
   "source": [
    "### First define a custom PDF:: return 10 with probability 0.5, 2 with probability 0.3, and 1 with probability 0.2"
   ]
  },
  {
   "cell_type": "code",
   "execution_count": 25,
   "metadata": {
    "collapsed": true
   },
   "outputs": [],
   "source": [
    "custom_pdf = [[0.5, 10.0], [0.3, 2.0], [0.2, 1.0]]"
   ]
  },
  {
   "cell_type": "markdown",
   "metadata": {},
   "source": [
    "### Now define the parameters dictionary"
   ]
  },
  {
   "cell_type": "code",
   "execution_count": 26,
   "metadata": {
    "collapsed": false
   },
   "outputs": [],
   "source": [
    "params = {\n",
    "    'Arrival_distributions': [['Exponential', 5.0]],\n",
    "    'Service_distributions': [['Custom', custom_pdf]],\n",
    "    'Number_of_servers': [1],\n",
    "    'Transition_matrices': [[0.0]]\n",
    "}"
   ]
  },
  {
   "cell_type": "markdown",
   "metadata": {},
   "source": [
    "### Create and run the simulation"
   ]
  },
  {
   "cell_type": "code",
   "execution_count": 27,
   "metadata": {
    "collapsed": false
   },
   "outputs": [],
   "source": [
    "N = ciw.create_network(params)\n",
    "Q = ciw.Simulation(N)\n",
    "Q.simulate_until_max_time(1000)"
   ]
  },
  {
   "cell_type": "markdown",
   "metadata": {},
   "source": [
    "### Lets check the records to see if all the service times match the custom pdf"
   ]
  },
  {
   "cell_type": "code",
   "execution_count": 28,
   "metadata": {
    "collapsed": true
   },
   "outputs": [],
   "source": [
    "recs = Q.get_all_records()"
   ]
  },
  {
   "cell_type": "code",
   "execution_count": 29,
   "metadata": {
    "collapsed": false
   },
   "outputs": [],
   "source": [
    "service_times = [r.service_time for r in recs]"
   ]
  },
  {
   "cell_type": "code",
   "execution_count": 30,
   "metadata": {
    "collapsed": false
   },
   "outputs": [
    {
     "name": "stdout",
     "output_type": "stream",
     "text": [
      "{1.0, 10.0, 2.0}\n"
     ]
    }
   ],
   "source": [
    "print(set(service_times))"
   ]
  },
  {
   "cell_type": "code",
   "execution_count": 31,
   "metadata": {
    "collapsed": false
   },
   "outputs": [
    {
     "name": "stdout",
     "output_type": "stream",
     "text": [
      "A service time of 1.0 was sampled for proportion: 0.20786516853932585\n",
      "A service time of 2.0 was sampled for proportion: 0.3202247191011236\n",
      "A service time of 10.0 was sampled for proportion: 0.47191011235955055\n"
     ]
    }
   ],
   "source": [
    "print(\"A service time of 1.0 was sampled for proportion: \" + str(len([s for s in service_times if s==1.0])/len(service_times)))\n",
    "print(\"A service time of 2.0 was sampled for proportion: \" + str(len([s for s in service_times if s==2.0])/len(service_times)))\n",
    "print(\"A service time of 10.0 was sampled for proportion: \" + str(len([s for s in service_times if s==10.0])/len(service_times)))"
   ]
  },
  {
   "cell_type": "code",
   "execution_count": null,
   "metadata": {
    "collapsed": true
   },
   "outputs": [],
   "source": []
  }
 ],
 "metadata": {
  "kernelspec": {
   "display_name": "Python 3",
   "language": "python",
   "name": "python3"
  },
  "language_info": {
   "codemirror_mode": {
    "name": "ipython",
    "version": 3
   },
   "file_extension": ".py",
   "mimetype": "text/x-python",
   "name": "python",
   "nbconvert_exporter": "python",
   "pygments_lexer": "ipython3",
   "version": "3.5.1"
  }
 },
 "nbformat": 4,
 "nbformat_minor": 0
}
